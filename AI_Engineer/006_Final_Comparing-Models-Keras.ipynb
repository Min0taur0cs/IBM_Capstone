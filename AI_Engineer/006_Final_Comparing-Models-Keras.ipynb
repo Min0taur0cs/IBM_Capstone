{
 "cells": [
  {
   "cell_type": "markdown",
   "metadata": {
    "button": false,
    "deletable": true,
    "new_sheet": false,
    "run_control": {
     "read_only": false
    }
   },
   "source": [
    "<a href=\"https://cognitiveclass.ai\"><img src = \"https://s3-api.us-geo.objectstorage.softlayer.net/cf-courses-data/CognitiveClass/Logos/organization_logo/organization_logo.png\" width = 400> </a>\n",
    "\n",
    "<h1 align=center><font size = 5>Peer Review Final Assignment</font></h1>"
   ]
  },
  {
   "cell_type": "markdown",
   "metadata": {
    "button": false,
    "deletable": true,
    "new_sheet": false,
    "run_control": {
     "read_only": false
    }
   },
   "source": [
    "## Introduction\n"
   ]
  },
  {
   "cell_type": "markdown",
   "metadata": {
    "button": false,
    "deletable": true,
    "new_sheet": false,
    "run_control": {
     "read_only": false
    }
   },
   "source": [
    "In this lab, you will build an image classifier using the VGG16 pre-trained model, and you will evaluate it and compare its performance to the model we built in the last module using the ResNet50 pre-trained model. Good luck!"
   ]
  },
  {
   "cell_type": "markdown",
   "metadata": {
    "button": false,
    "deletable": true,
    "new_sheet": false,
    "run_control": {
     "read_only": false
    }
   },
   "source": [
    "## Table of Contents\n",
    "\n",
    "<div class=\"alert alert-block alert-info\" style=\"margin-top: 20px\">\n",
    "\n",
    "<font size = 3>    \n",
    "\n",
    "1. <a href=\"#item41\">Download Data \n",
    "2. <a href=\"#item42\">Part 1</a>\n",
    "3. <a href=\"#item43\">Part 2</a>  \n",
    "4. <a href=\"#item44\">Part 3</a>  \n",
    "\n",
    "</font>\n",
    "    \n",
    "</div>"
   ]
  },
  {
   "cell_type": "markdown",
   "metadata": {
    "button": false,
    "deletable": true,
    "new_sheet": false,
    "run_control": {
     "read_only": false
    }
   },
   "source": [
    "   "
   ]
  },
  {
   "cell_type": "markdown",
   "metadata": {},
   "source": [
    "<a id=\"item41\"></a>"
   ]
  },
  {
   "cell_type": "markdown",
   "metadata": {},
   "source": [
    "## Download Data"
   ]
  },
  {
   "cell_type": "markdown",
   "metadata": {},
   "source": [
    "Use the <code>wget</code> command to download the data for this assignment from here: https://s3-api.us-geo.objectstorage.softlayer.net/cf-courses-data/CognitiveClass/DL0321EN/data/concrete_data_week4.zip"
   ]
  },
  {
   "cell_type": "markdown",
   "metadata": {},
   "source": [
    "Use the following cells to download the data."
   ]
  },
  {
   "cell_type": "code",
   "execution_count": 1,
   "metadata": {},
   "outputs": [],
   "source": [
    "# CUDF - GPU Dataframe\n",
    "# cudf is a GPU DataFrame library for loading, joining, aggregating, filtering, and otherwise manipulating tabular data using a DataFrame style API.    \n",
    "%load_ext cudf.pandas\n",
    "\n",
    "#=============================\n",
    "# Autoreload for executing external Python code\n",
    "%load_ext autoreload\n",
    "%autoreload 2\n",
    "#=============================\n",
    "# Import propietary libraries\n",
    "\n",
    "import sys\n",
    "\n",
    "\n",
    "sys.path.append('/home/min0/development/AIFlow_Tools/')\n",
    "# Function to download files from a given url and save them in a given path with a name \n",
    "# Usage: dl(path, 'NameFile.csv')\n",
    "from AiFlow_Functions import dl_data as dl\n",
    "# Function to Interprete the Jaccard Index \n",
    "# Example usage\n",
    "# jaccard_value = 0.625\n",
    "# print(interpret_jaccard(jaccard_value))\n",
    "from AiFlow_Functions import interpret_jaccard as ij\n",
    "# Function to interpret the confusion matrix\n",
    "# Example usage\n",
    "# cnf_matrix = confusion_matrix(y_test, yhat, labels=[1,0])\n",
    "# print(explain_and_interpret_confusion_matrix(cnf_matrix))\n",
    "from AiFlow_Functions import explain_and_interpret_confusion_matrix as explain_matrix\n",
    "# Function to connect to any datasource and retrieve data and files \n",
    "# This function use now API, DL and Gdrive as data sources\n",
    "# Example usage\n",
    "# connector(url='http://example.com/data.csv', type='url', filename='downloaded_data.csv')\n",
    "# connector(url='http://api.example.com/data', type='api', chunks=2)\n",
    "# connector(type='google_drive', drive_file_id='drive_file_id_here', filename='drive_data.csv')\n",
    "# google auth is in the same folder of the function set.\n",
    "from AiFlow_Functions import connector as connector\n",
    "\n",
    "# Function to load and predict with a given model and data it need the classes\n",
    "# from AiFlow_Functions import load_and_p as AILoad_p\n",
    "# from AiFlow_Functions import AIFlow_load_predict as AILoad_p\n",
    "# Remove the warnings from the notebook\n",
    "import os\n",
    "os.environ['TF_CPP_MIN_LOG_LEVEL'] = '2'\n",
    "\n",
    "# Importing libraries\n",
    "#=============================\n",
    "# import sweetviz in the notebook   \n",
    "import io\n",
    "import requests\n",
    "# import sweetviz as sv\n",
    "# import cudf\n",
    "import pandas as pd\n",
    "import numpy as np  \n",
    "import matplotlib.pyplot as plt\n",
    "import seaborn as sns\n",
    "import plotly.express as px\n",
    "# import folium\n",
    "#============================="
   ]
  },
  {
   "cell_type": "code",
   "execution_count": 2,
   "metadata": {},
   "outputs": [
    {
     "name": "stdout",
     "output_type": "stream",
     "text": [
      "Downloading concrete_data_week4.zip\n"
     ]
    }
   ],
   "source": [
    "url = \"https://s3-api.us-geo.objectstorage.softlayer.net/cf-courses-data/CognitiveClass/DL0321EN/data/concrete_data_week4.zip\"\n",
    "\n",
    "filename = \"concrete_data_week4.zip\"\n",
    "\n",
    "dl(url, filename)\n",
    "\n",
    "# Unzip the file\n",
    "import zipfile\n",
    "with zipfile.ZipFile(filename, 'r') as zip_ref:\n",
    "    zip_ref.extractall('./')\n"
   ]
  },
  {
   "cell_type": "code",
   "execution_count": 4,
   "metadata": {},
   "outputs": [],
   "source": [
    "os.listdir('./concrete_data_week4')\n",
    "dataset_dir = './concrete_data_week4'"
   ]
  },
  {
   "cell_type": "markdown",
   "metadata": {},
   "source": [
    "After you unzip the data, you fill find the data has already been divided into a train, validation, and test sets."
   ]
  },
  {
   "cell_type": "markdown",
   "metadata": {},
   "source": [
    "  "
   ]
  },
  {
   "cell_type": "markdown",
   "metadata": {
    "button": false,
    "deletable": true,
    "new_sheet": false,
    "run_control": {
     "read_only": false
    }
   },
   "source": [
    "<a id=\"item42\"></a>"
   ]
  },
  {
   "cell_type": "markdown",
   "metadata": {},
   "source": [
    "## Part 1"
   ]
  },
  {
   "cell_type": "markdown",
   "metadata": {},
   "source": [
    "In this part, you will design a classifier using the VGG16 pre-trained model. Just like the ResNet50 model, you can import the model <code>VGG16</code> from <code>keras.applications</code>."
   ]
  },
  {
   "cell_type": "markdown",
   "metadata": {},
   "source": [
    "You will essentially build your classifier as follows:\n",
    "1. Import libraries, modules, and packages you will need. Make sure to import the *preprocess_input* function from <code>keras.applications.vgg16</code>.\n",
    "2. Use a batch size of 100 images for both training and validation.\n",
    "3. Construct an ImageDataGenerator for the training set and another one for the validation set. VGG16 was originally trained on 224 × 224 images, so make sure to address that when defining the ImageDataGenerator instances.\n",
    "4. Create a sequential model using Keras. Add VGG16 model to it and dense layer.\n",
    "5. Compile the mode using the adam optimizer and the categorical_crossentropy loss function.\n",
    "6. Fit the model on the augmented data using the ImageDataGenerators."
   ]
  },
  {
   "cell_type": "markdown",
   "metadata": {},
   "source": [
    "Use the following cells to create your classifier."
   ]
  },
  {
   "cell_type": "markdown",
   "metadata": {},
   "source": [
    "## Import all dependency \n",
    "\n",
    "### Keras and Vgg16"
   ]
  },
  {
   "cell_type": "code",
   "execution_count": 34,
   "metadata": {},
   "outputs": [],
   "source": [
    "import keras\n",
    "\n",
    "from keras.applications import VGG16  # VGG16 is a pre-trained model\n",
    "from keras.applications import ResNet50 # ResNet50 is a pre-trained model\n",
    "\n",
    "\n",
    "from keras.models import Sequential\n",
    "from keras.layers import Dense\n",
    "from keras.preprocessing.image import ImageDataGenerator\n",
    "from keras.applications.vgg16 import preprocess_input\n",
    "\n",
    "from keras.layers import Dropout\n",
    "from keras.regularizers import l2\n",
    "\n"
   ]
  },
  {
   "cell_type": "markdown",
   "metadata": {},
   "source": [
    "Define classes, batches and image resize."
   ]
  },
  {
   "cell_type": "code",
   "execution_count": 35,
   "metadata": {},
   "outputs": [],
   "source": [
    "num_classes = 2 # binary classification\n",
    "\n",
    "image_resize = 224 # VGG16 takes 224 x 224 images as input  \n",
    "\n",
    "batch_size_training = 100 # training data is in batches of 100 images\n",
    "\n",
    "batch_size_validation = 100 # validation data is in batches of 100 images\n"
   ]
  },
  {
   "cell_type": "markdown",
   "metadata": {},
   "source": []
  },
  {
   "cell_type": "code",
   "execution_count": null,
   "metadata": {
    "scrolled": true
   },
   "outputs": [
    {
     "name": "stdout",
     "output_type": "stream",
     "text": [
      "Found 30001 images belonging to 2 classes.\n",
      "Found 9501 images belonging to 2 classes.\n"
     ]
    }
   ],
   "source": [
    "dataset_dir = './concrete_data_week4'\n",
    "training_data = dataset_dir + '/train'\n",
    "validation_data = dataset_dir + '/valid'\n",
    "\n",
    "# Data augmentation for training data this way i have way more data to train\n",
    "\n",
    "train_datagen = ImageDataGenerator(\n",
    "    preprocessing_function=preprocess_input,\n",
    "    rotation_range=40,\n",
    "    width_shift_range=0.2,\n",
    "    height_shift_range=0.2,\n",
    "    shear_range=0.2,\n",
    "    zoom_range=0.2,\n",
    "    horizontal_flip=True,\n",
    "    fill_mode='nearest'\n",
    ")\n",
    "\n",
    "# Regular ImageDataGenerator for validation data\n",
    "validation_datagen = ImageDataGenerator(\n",
    "    preprocessing_function=preprocess_input,\n",
    ")\n",
    "\n",
    "# Train and Validation Generators\n",
    "train_generator = train_datagen.flow_from_directory(\n",
    "    training_data,\n",
    "    target_size=(image_resize, image_resize),\n",
    "    batch_size=batch_size_training,\n",
    "    class_mode='categorical'\n",
    ")\n",
    "\n",
    "validation_generator = validation_datagen.flow_from_directory(\n",
    "    validation_data,\n",
    "    target_size=(image_resize, image_resize),\n",
    "    batch_size=batch_size_validation,\n",
    "    class_mode='categorical'\n",
    ")\n",
    "\n",
    "\n"
   ]
  },
  {
   "cell_type": "markdown",
   "metadata": {},
   "source": [
    "## Build, compile the model - VGG16 - Adam - Softmax - Callback"
   ]
  },
  {
   "cell_type": "markdown",
   "metadata": {},
   "source": [
    "#### To every model i add Callback to exit on 99.9% Accuracy "
   ]
  },
  {
   "cell_type": "code",
   "execution_count": 92,
   "metadata": {},
   "outputs": [
    {
     "name": "stdout",
     "output_type": "stream",
     "text": [
      "Model: \"sequential_26\"\n",
      "_________________________________________________________________\n",
      " Layer (type)                Output Shape              Param #   \n",
      "=================================================================\n",
      " vgg16 (Functional)          (None, 512)               14714688  \n",
      "                                                                 \n",
      " dense_75 (Dense)            (None, 2048)              1050624   \n",
      "                                                                 \n",
      " dense_76 (Dense)            (None, 2048)              4196352   \n",
      "                                                                 \n",
      " dense_77 (Dense)            (None, 2)                 4098      \n",
      "                                                                 \n",
      "=================================================================\n",
      "Total params: 19965762 (76.16 MB)\n",
      "Trainable params: 5251074 (20.03 MB)\n",
      "Non-trainable params: 14714688 (56.13 MB)\n",
      "_________________________________________________________________\n"
     ]
    }
   ],
   "source": [
    "# Building the VGG16 model\n",
    "\n",
    "model_vgg = Sequential()\n",
    "\n",
    "model_vgg.add(VGG16(include_top=False, pooling='avg', weights='imagenet'))\n",
    "\n",
    "model_vgg.add(Dense(2048, activation='relu')) # adding a dense layer with 2048 neurons\n",
    "\n",
    "model_vgg.add(Dense(2048, activation='relu')) # adding a dense layer with 2048 neurons\n",
    "\n",
    "# model_vgg.add(Dropout(0.05)) # adding a dropout layer to avoid overfitting\n",
    "\n",
    "model_vgg.add(Dense(num_classes, activation='softmax')) # adding a dense layer with softmax function as activation\n",
    "\n",
    "model_vgg.layers[0].trainable = False # freezing the VGG16 model so that its weights will not be updated during training\n",
    "\n",
    "model_vgg.compile(optimizer='adam', loss='categorical_crossentropy', metrics=['accuracy'])\n",
    "\n",
    "model_vgg.summary()"
   ]
  },
  {
   "cell_type": "markdown",
   "metadata": {},
   "source": [
    "## Build, compile the model - ResNet50 - Adam - Softmax - Callback"
   ]
  },
  {
   "cell_type": "markdown",
   "metadata": {},
   "source": [
    "#### To every model i add Callback to exit on 99.9% Accuracy "
   ]
  },
  {
   "cell_type": "code",
   "execution_count": 93,
   "metadata": {},
   "outputs": [
    {
     "name": "stdout",
     "output_type": "stream",
     "text": [
      "Model: \"sequential_27\"\n",
      "_________________________________________________________________\n",
      " Layer (type)                Output Shape              Param #   \n",
      "=================================================================\n",
      " resnet50 (Functional)       (None, 2048)              23587712  \n",
      "                                                                 \n",
      " dense_78 (Dense)            (None, 2048)              4196352   \n",
      "                                                                 \n",
      " dense_79 (Dense)            (None, 2048)              4196352   \n",
      "                                                                 \n",
      " dense_80 (Dense)            (None, 2)                 4098      \n",
      "                                                                 \n",
      "=================================================================\n",
      "Total params: 31984514 (122.01 MB)\n",
      "Trainable params: 8396802 (32.03 MB)\n",
      "Non-trainable params: 23587712 (89.98 MB)\n",
      "_________________________________________________________________\n"
     ]
    }
   ],
   "source": [
    "# Building the ResNet50 model\n",
    "\n",
    "model_resnet = Sequential()\n",
    "\n",
    "model_resnet.add(ResNet50(include_top=False, pooling='avg', weights='imagenet'))\n",
    "\n",
    "model_resnet.add(Dense(2048, activation='relu')) # adding a dense layer with 2048 neurons\n",
    "\n",
    "model_resnet.add(Dense(2048, activation='relu')) # adding a dense layer with 2048 neurons\n",
    "\n",
    "model_resnet.add(Dense(num_classes, activation='softmax')) # adding a dense layer with softmax function as activation\n",
    "\n",
    "model_resnet.layers[0].trainable = False\n",
    "\n",
    "model_resnet.compile(optimizer='adam', loss='categorical_crossentropy', metrics=['accuracy'])\n",
    "\n",
    "model_resnet.summary()\n"
   ]
  },
  {
   "cell_type": "markdown",
   "metadata": {},
   "source": [
    "### Define training paramenters \n",
    "\n",
    "#### Since i play this on my GPU i will go for 100 epochs for both the models."
   ]
  },
  {
   "cell_type": "code",
   "execution_count": 94,
   "metadata": {},
   "outputs": [],
   "source": [
    "# Training Parameters\n",
    "\n",
    "num_epochs = 100\n",
    "\n",
    "steps_per_epoch_training = len(train_generator)\n",
    "\n",
    "steps_per_epoch_validation = len(validation_generator)\n"
   ]
  },
  {
   "cell_type": "markdown",
   "metadata": {},
   "source": [
    "### Define callback for early stopping "
   ]
  },
  {
   "cell_type": "code",
   "execution_count": 95,
   "metadata": {},
   "outputs": [],
   "source": [
    "# Define a Callback class that stops training once accuracy reaches 99%\n",
    "from tensorflow.keras.callbacks import Callback\n",
    "\n",
    "class myCallback(Callback):\n",
    "  \n",
    "  def on_epoch_end(self, epoch, logs={}):\n",
    "\n",
    "    if(logs.get('accuracy')>0.997): # 99.7% accuracy reached to stop training - i added 0.7% to be sure that i will reach 99%\n",
    "      \n",
    "      print(\"\\nReached 99.9% accuracy so cancelling training!\")\n",
    "      \n",
    "      self.model.stop_training = True"
   ]
  },
  {
   "cell_type": "markdown",
   "metadata": {},
   "source": [
    "### Control GPU for TF "
   ]
  },
  {
   "cell_type": "code",
   "execution_count": 96,
   "metadata": {},
   "outputs": [
    {
     "name": "stdout",
     "output_type": "stream",
     "text": [
      "Available devices: [PhysicalDevice(name='/physical_device:CPU:0', device_type='CPU'), PhysicalDevice(name='/physical_device:GPU:0', device_type='GPU')]\n"
     ]
    }
   ],
   "source": [
    "import tensorflow as tf\n",
    "\n",
    "# List all physical devices available to TensorFlow\n",
    "print(\"Available devices:\", tf.config.list_physical_devices())\n"
   ]
  },
  {
   "cell_type": "markdown",
   "metadata": {},
   "source": [
    "### Fit the VGG16 model"
   ]
  },
  {
   "cell_type": "code",
   "execution_count": 97,
   "metadata": {},
   "outputs": [
    {
     "name": "stdout",
     "output_type": "stream",
     "text": [
      "Epoch 1/100\n",
      "301/301 [==============================] - 114s 376ms/step - loss: 0.1174 - accuracy: 0.9824 - val_loss: 0.0079 - val_accuracy: 0.9971\n",
      "Epoch 2/100\n",
      "301/301 [==============================] - 115s 381ms/step - loss: 0.0142 - accuracy: 0.9960 - val_loss: 0.0074 - val_accuracy: 0.9973\n",
      "Epoch 3/100\n",
      "301/301 [==============================] - 114s 380ms/step - loss: 0.0135 - accuracy: 0.9960 - val_loss: 0.0092 - val_accuracy: 0.9971\n",
      "Epoch 4/100\n",
      "301/301 [==============================] - 114s 377ms/step - loss: 0.0132 - accuracy: 0.9963 - val_loss: 0.0076 - val_accuracy: 0.9974\n",
      "Epoch 5/100\n",
      "301/301 [==============================] - 115s 381ms/step - loss: 0.0124 - accuracy: 0.9969 - val_loss: 0.0068 - val_accuracy: 0.9975\n",
      "Epoch 6/100\n",
      "301/301 [==============================] - 115s 381ms/step - loss: 0.0120 - accuracy: 0.9966 - val_loss: 0.0054 - val_accuracy: 0.9979\n",
      "Epoch 7/100\n",
      "301/301 [==============================] - 113s 377ms/step - loss: 0.0125 - accuracy: 0.9962 - val_loss: 0.0091 - val_accuracy: 0.9979\n",
      "Epoch 8/100\n",
      "301/301 [==============================] - 114s 378ms/step - loss: 0.0097 - accuracy: 0.9970 - val_loss: 0.0090 - val_accuracy: 0.9975\n",
      "Epoch 9/100\n",
      "301/301 [==============================] - 114s 377ms/step - loss: 0.0100 - accuracy: 0.9969 - val_loss: 0.0063 - val_accuracy: 0.9984\n",
      "Epoch 10/100\n",
      "301/301 [==============================] - ETA: 0s - loss: 0.0105 - accuracy: 0.9972\n",
      "Reached 99.9% accuracy so cancelling training!\n",
      "301/301 [==============================] - 114s 378ms/step - loss: 0.0105 - accuracy: 0.9972 - val_loss: 0.0079 - val_accuracy: 0.9978\n"
     ]
    }
   ],
   "source": [
    "# calling my Callback class for early stopping\n",
    "\n",
    "callbacks = myCallback()\n",
    "\n",
    "\n",
    "# Training the VGG16 Model\n",
    "\n",
    "fit_history_vgg = model_vgg.fit(\n",
    "\n",
    "    train_generator,\n",
    "\n",
    "    steps_per_epoch=steps_per_epoch_training,\n",
    "\n",
    "    epochs=num_epochs,\n",
    "\n",
    "    validation_data=validation_generator,\n",
    "\n",
    "    validation_steps=steps_per_epoch_validation,\n",
    "    \n",
    "    callbacks=callbacks, # Early stopping 0n validation \n",
    "    \n",
    "    verbose=1\n",
    ")\n"
   ]
  },
  {
   "cell_type": "markdown",
   "metadata": {},
   "source": [
    "### Fit the ResNet50 Model"
   ]
  },
  {
   "cell_type": "code",
   "execution_count": 98,
   "metadata": {},
   "outputs": [
    {
     "name": "stdout",
     "output_type": "stream",
     "text": [
      "Epoch 1/100\n",
      "301/301 [==============================] - 115s 374ms/step - loss: 0.0897 - accuracy: 0.9848 - val_loss: 0.0075 - val_accuracy: 0.9973\n",
      "Epoch 2/100\n",
      "301/301 [==============================] - 112s 372ms/step - loss: 0.0124 - accuracy: 0.9966 - val_loss: 0.0054 - val_accuracy: 0.9984\n",
      "Epoch 3/100\n",
      "301/301 [==============================] - ETA: 0s - loss: 0.0090 - accuracy: 0.9977\n",
      "Reached 99.9% accuracy so cancelling training!\n",
      "301/301 [==============================] - 111s 369ms/step - loss: 0.0090 - accuracy: 0.9977 - val_loss: 0.0067 - val_accuracy: 0.9979\n"
     ]
    }
   ],
   "source": [
    "# calling my Callback class for early stopping\n",
    "\n",
    "callbacks = myCallback()\n",
    "\n",
    "\n",
    "# Training the ResNet50 Model\n",
    "\n",
    "fit_history_resnet = model_resnet.fit(\n",
    "\n",
    "    train_generator,\n",
    "\n",
    "    steps_per_epoch=steps_per_epoch_training,\n",
    "\n",
    "    epochs=num_epochs,\n",
    "\n",
    "    validation_data=validation_generator,\n",
    "\n",
    "    validation_steps=steps_per_epoch_validation,\n",
    "\n",
    "    callbacks=callbacks, # Early stopping 0n validation \n",
    "    \n",
    "    verbose=1\n",
    "\n",
    ")"
   ]
  },
  {
   "cell_type": "markdown",
   "metadata": {},
   "source": [
    "### Checking performances of the 2 models after Fit "
   ]
  },
  {
   "cell_type": "code",
   "execution_count": 99,
   "metadata": {},
   "outputs": [
    {
     "data": {
      "image/png": "[encoded data removed]",
      "text/plain": [
       "<Figure size 1200x600 with 2 Axes>"
      ]
     },
     "metadata": {},
     "output_type": "display_data"
    },
    {
     "data": {
      "image/png": "[encoded data removed]",
      "text/plain": [
       "<Figure size 1200x600 with 2 Axes>"
      ]
     },
     "metadata": {},
     "output_type": "display_data"
    }
   ],
   "source": [
    "import matplotlib.pyplot as plt\n",
    "\n",
    "# Function to plot training and validation accuracy and loss\n",
    "def plot_performance(history, model_name):\n",
    "    acc = history.history['accuracy']\n",
    "    val_acc = history.history['val_accuracy']\n",
    "    loss = history.history['loss']\n",
    "    val_loss = history.history['val_loss']\n",
    "    epochs = range(1, len(acc) + 1)\n",
    "\n",
    "    plt.figure(figsize=(12, 6))\n",
    "\n",
    "    plt.subplot(1, 2, 1)\n",
    "    plt.plot(epochs, acc, 'b-', label='Training accuracy')\n",
    "    plt.plot(epochs, val_acc, 'r-', label='Validation accuracy')\n",
    "    plt.title('Training and Validation Accuracy for ' + model_name)\n",
    "    plt.xlabel('Epoch')\n",
    "    plt.ylabel('Accuracy')\n",
    "    plt.legend()\n",
    "\n",
    "    plt.subplot(1, 2, 2)\n",
    "    plt.plot(epochs, loss, 'b-', label='Training loss')\n",
    "    plt.plot(epochs, val_loss, 'r-', label='Validation loss')\n",
    "    plt.title('Training and Validation Loss for ' + model_name)\n",
    "    plt.xlabel('Epoch')\n",
    "    plt.ylabel('Loss')\n",
    "    plt.legend()\n",
    "\n",
    "    plt.tight_layout()\n",
    "    plt.show()\n",
    "\n",
    "# Plot performance for VGG16 model\n",
    "plot_performance(fit_history_vgg, 'VGG16')\n",
    "\n",
    "# Plot performance for ResNet50 model\n",
    "plot_performance(fit_history_resnet, 'ResNet50')"
   ]
  },
  {
   "cell_type": "markdown",
   "metadata": {},
   "source": [
    "### I Save both models for future use. After the 20 Epochs or Callback early stopping of training."
   ]
  },
  {
   "cell_type": "code",
   "execution_count": 100,
   "metadata": {},
   "outputs": [
    {
     "name": "stderr",
     "output_type": "stream",
     "text": [
      "/home/min0/anaconda3/envs/AIFlow_Lab/lib/python3.10/site-packages/keras/src/engine/training.py:3103: UserWarning: You are saving your model as an HDF5 file via `model.save()`. This file format is considered legacy. We recommend using instead the native Keras format, e.g. `model.save('my_model.keras')`.\n",
      "  saving_api.save_model(\n"
     ]
    }
   ],
   "source": [
    "# Save the models\n",
    "model_vgg.save('AIFlow_Pretrained_vgg16_model.h5')\n",
    "model_resnet.save('AIFlow_Pretrained_resnet50_model.h5')"
   ]
  },
  {
   "cell_type": "markdown",
   "metadata": {},
   "source": [
    "<a id=\"item43\"></a>"
   ]
  },
  {
   "cell_type": "markdown",
   "metadata": {},
   "source": [
    "## Part 2"
   ]
  },
  {
   "cell_type": "markdown",
   "metadata": {},
   "source": [
    "In this part, you will evaluate your deep learning models on a test data. For this part, you will need to do the following:\n",
    "\n",
    "1. Load your saved model that was built using the ResNet50 model. \n",
    "2. Construct an ImageDataGenerator for the test set. For this ImageDataGenerator instance, you only need to pass the directory of the test images, target size, and the **shuffle** parameter and set it to False.\n",
    "3. Use the **evaluate_generator** method to evaluate your models on the test data, by passing the above ImageDataGenerator as an argument. You can learn more about **evaluate_generator** [here](https://keras.io/models/sequential/).\n",
    "4. Print the performance of the classifier using the VGG16 pre-trained model.\n",
    "5. Print the performance of the classifier using the ResNet pre-trained model.\n"
   ]
  },
  {
   "cell_type": "markdown",
   "metadata": {},
   "source": [
    "Use the following cells to evaluate your models."
   ]
  },
  {
   "cell_type": "code",
   "execution_count": 101,
   "metadata": {},
   "outputs": [
    {
     "name": "stdout",
     "output_type": "stream",
     "text": [
      "Found 500 images belonging to 2 classes.\n",
      "500/500 [==============================] - 4s 7ms/step - loss: 0.0012 - accuracy: 1.0000\n",
      "ResNet Model - Loss: 0.0012, Accuracy: 1.0000\n",
      "500/500 [==============================] - 2s 3ms/step - loss: 0.0075 - accuracy: 0.9980\n",
      "VGG Model - Loss: 0.0075, Accuracy: 0.9980\n"
     ]
    }
   ],
   "source": [
    "dataset_dir = './concrete_data_week4'\n",
    "test_data = dataset_dir + '/test'\n",
    "\n",
    "from keras.models import load_model\n",
    "from keras.preprocessing.image import ImageDataGenerator\n",
    "\n",
    "# Load the saved models from previous operation \n",
    "\n",
    "model_resnet = load_model('AIFlow_Pretrained_resnet50_model.h5')\n",
    "\n",
    "model_vgg = load_model('AIFlow_Pretrained_vgg16_model.h5')\n",
    "\n",
    "# ImageDataGenerator for the test set\n",
    "test_datagen = ImageDataGenerator(preprocessing_function=preprocess_input)\n",
    "\n",
    "# Test Generator\n",
    "\n",
    "test_generator = test_datagen.flow_from_directory(\n",
    "\n",
    "    test_data, # using the validation data because the test data is not labeled \n",
    "\n",
    "    target_size=(image_resize, image_resize),\n",
    "\n",
    "    batch_size=1,\n",
    "\n",
    "    class_mode='categorical', \n",
    "\n",
    "    shuffle=False # shuffle=False to ensure that the predictions are in the same order as the IDs in the test_generator.filenames array\n",
    ")\n",
    "\n",
    "# Evaluate the ResNet model\n",
    "\n",
    "resnet_evaluation = model_resnet.evaluate(test_generator)\n",
    "\n",
    "print(\"ResNet Model - Loss: {:.4f}, Accuracy: {:.4f}\".format(resnet_evaluation[0], resnet_evaluation[1]))\n",
    "\n",
    "# Evaluate the VGG model\n",
    "\n",
    "vgg_evaluation = model_vgg.evaluate(test_generator)\n",
    "\n",
    "print(\"VGG Model - Loss: {:.4f}, Accuracy: {:.4f}\".format(vgg_evaluation[0], vgg_evaluation[1]))\n"
   ]
  },
  {
   "cell_type": "markdown",
   "metadata": {},
   "source": [
    "## Part 3"
   ]
  },
  {
   "cell_type": "markdown",
   "metadata": {},
   "source": [
    "In this model, you will predict whether the images in the test data are images of cracked concrete or not. You will do the following:\n",
    "\n",
    "1. Use the **predict_generator** method to predict the class of the images in the test data, by passing the test data ImageDataGenerator instance defined in the previous part as an argument. You can learn more about the **predict_generator** method [here](https://keras.io/models/sequential/).\n",
    "2. Report the class predictions of the first five images in the test set. You should print something list this:\n",
    "\n",
    "<center>\n",
    "    <ul style=\"list-style-type:none\">\n",
    "        <li>Positive</li>  \n",
    "        <li>Negative</li> \n",
    "        <li>Positive</li>\n",
    "        <li>Positive</li>\n",
    "        <li>Negative</li>\n",
    "    </ul>\n",
    "</center>"
   ]
  },
  {
   "cell_type": "markdown",
   "metadata": {},
   "source": [
    "Use the following cells to make your predictions."
   ]
  },
  {
   "cell_type": "code",
   "execution_count": 102,
   "metadata": {},
   "outputs": [
    {
     "name": "stdout",
     "output_type": "stream",
     "text": [
      "500/500 [==============================] - 3s 5ms/step\n",
      "500/500 [==============================] - 1s 2ms/step\n",
      "First Five Predictions with ResNet Model:\n",
      "Image 1: Negative\n",
      "Image 2: Negative\n",
      "Image 3: Negative\n",
      "Image 4: Negative\n",
      "Image 5: Negative\n",
      "\n",
      "First Five Predictions with VGG Model:\n",
      "Image 1: Negative\n",
      "Image 2: Negative\n",
      "Image 3: Negative\n",
      "Image 4: Negative\n",
      "Image 5: Negative\n"
     ]
    }
   ],
   "source": [
    "# Generate predictions for the test data\n",
    "predictions_resnet = model_resnet.predict(test_generator, steps=len(test_generator))\n",
    "predictions_vgg = model_vgg.predict(test_generator, steps=len(test_generator))\n",
    "\n",
    "# Function to interpret the class predictions\n",
    "def interpret_predictions(predictions):\n",
    "    class_labels = ['Negative', 'Positive']  # 0: Negative, 1: Positive\n",
    "\n",
    "    predicted_classes = [class_labels[np.argmax(pred)] for pred in predictions] # Get the predicted class label for each image\n",
    "\n",
    "    return predicted_classes\n",
    "\n",
    "# Interpret the first five predictions for each model \n",
    "\n",
    "first_five_predictions_resnet = interpret_predictions(predictions_resnet[:5])\n",
    "\n",
    "first_five_predictions_vgg = interpret_predictions(predictions_vgg[:5])\n",
    "\n",
    "\n",
    "# Print the class predictions of the first five images for each model\n",
    "\n",
    "print(\"First Five Predictions with ResNet Model:\")\n",
    "\n",
    "for i, pred in enumerate(first_five_predictions_resnet):\n",
    "\n",
    "    print(f\"Image {i+1}: {pred}\")\n",
    "\n",
    "print(\"\\nFirst Five Predictions with VGG Model:\")\n",
    "\n",
    "for i, pred in enumerate(first_five_predictions_vgg):\n",
    "    \n",
    "    print(f\"Image {i+1}: {pred}\")\n"
   ]
  },
  {
   "cell_type": "markdown",
   "metadata": {},
   "source": [
    "  "
   ]
  },
  {
   "cell_type": "markdown",
   "metadata": {
    "button": false,
    "deletable": true,
    "new_sheet": false,
    "run_control": {
     "read_only": false
    }
   },
   "source": [
    "### Thank you for completing this lab!\n",
    "\n",
    "This notebook was created by Alex Aklson."
   ]
  },
  {
   "cell_type": "markdown",
   "metadata": {
    "button": false,
    "deletable": true,
    "new_sheet": false,
    "run_control": {
     "read_only": false
    }
   },
   "source": [
    "This notebook is part of a course on **Coursera** called *AI Capstone Project with Deep Learning*. If you accessed this notebook outside the course, you can take this course online by clicking [here](https://cocl.us/DL0321EN_Coursera_Week4_LAB1)."
   ]
  },
  {
   "cell_type": "markdown",
   "metadata": {
    "button": false,
    "deletable": true,
    "new_sheet": false,
    "run_control": {
     "read_only": false
    }
   },
   "source": [
    "<hr>\n",
    "\n",
    "Copyright &copy; 2020 [IBM Developer Skills Network](https://cognitiveclass.ai/?utm_source=bducopyrightlink&utm_medium=dswb&utm_campaign=bdu). This notebook and its source code are released under the terms of the [MIT License](https://bigdatauniversity.com/mit-license/)."
   ]
  }
 ],
 "metadata": {
  "kernelspec": {
   "display_name": "AIFlow_Lab",
   "language": "python",
   "name": "python3"
  },
  "language_info": {
   "codemirror_mode": {
    "name": "ipython",
    "version": 3
   },
   "file_extension": ".py",
   "mimetype": "text/x-python",
   "name": "python",
   "nbconvert_exporter": "python",
   "pygments_lexer": "ipython3",
   "version": "3.10.13"
  }
 },
 "nbformat": 4,
 "nbformat_minor": 4
}
